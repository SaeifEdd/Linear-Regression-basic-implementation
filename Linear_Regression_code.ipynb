{
 "cells": [
  {
   "cell_type": "code",
   "execution_count": 100,
   "id": "0f4a93b6",
   "metadata": {},
   "outputs": [],
   "source": [
    "import numpy as np\n",
    "import pandas as pd\n",
    "import matplotlib.pyplot as plt\n",
    "from sklearn import datasets\n",
    "from sklearn.model_selection import train_test_split"
   ]
  },
  {
   "cell_type": "code",
   "execution_count": 101,
   "id": "e78eddeb",
   "metadata": {},
   "outputs": [],
   "source": [
    "class LinearRegression:\n",
    "    def __init__(self, learning_rate = 0.001, max_iters = 1000):\n",
    "        self.lr = learning_rate\n",
    "        self.max_iters = max_iters\n",
    "        self.weights = None\n",
    "        self.b = None\n",
    "    \n",
    "    def fit(self, X, y):\n",
    "        #if len(X.shape) == 1:\n",
    "        #    X = X.values.reshape(-1, 1)\n",
    "            \n",
    "        self.n_rows, self.n_features = X.shape\n",
    "        \n",
    "        #init model parameters\n",
    "        self.weights = np.zeros(self.n_features)\n",
    "        self.b = 0\n",
    "        \n",
    "        #iterate for gradient descent\n",
    "        for i in range(self.max_iters):\n",
    "            #get the difference between true and predicted values\n",
    "            error = self.get_error(X, y)\n",
    "            #compute the gradients\n",
    "            dw, db = self.get_gradients(X, error)\n",
    "            #update the parameters\n",
    "            self.update_params(dw, db)\n",
    "        \n",
    "    #compute the errors        \n",
    "    def get_error(self, X, y):\n",
    "        #compute predicted values\n",
    "        y_hat = np.dot(X, self.weights) + self.b\n",
    "        error = y_hat - y\n",
    "        return error\n",
    "    \n",
    "    def get_gradients(self, X, error):\n",
    "        #calculate the gradients of weights and bias\n",
    "        dw = (1/self.n_rows) * np.dot(X.T, error)\n",
    "        db = (1/self.n_rows) * np.sum(error)\n",
    "        return dw, db\n",
    "    \n",
    "    def update_params(self, dw, db):\n",
    "        self.weights -= self.lr * dw\n",
    "        self.b -= self.lr * db\n",
    "        return\n",
    "    \n",
    "    def predict(self, X):\n",
    "        predictions = np.dot(X, self.weights) + self.b\n",
    "        return predictions\n",
    "        "
   ]
  },
  {
   "cell_type": "code",
   "execution_count": 103,
   "id": "d4b80ca7",
   "metadata": {},
   "outputs": [],
   "source": [
    "data = pd.read_csv(\"C:/Users/ASUS/ML algorithms/lin_reg/data.csv\")"
   ]
  },
  {
   "cell_type": "code",
   "execution_count": 104,
   "id": "e731415e",
   "metadata": {},
   "outputs": [],
   "source": [
    "def rmse(y_pred, y_true):\n",
    "    res = np.sqrt(np.mean((y_pred - y_true) ** 2))\n",
    "    return res"
   ]
  },
  {
   "cell_type": "code",
   "execution_count": 105,
   "id": "ac3b34df",
   "metadata": {},
   "outputs": [
    {
     "name": "stdout",
     "output_type": "stream",
     "text": [
      "RMSE: 0.008145450827921669\n"
     ]
    }
   ],
   "source": [
    "X = data.drop('x', axis = 1).values\n",
    "y = data[\"y\"].values\n",
    "\n",
    "#split dataset\n",
    "X_train, X_test, y_train, y_test = train_test_split(X, y, test_size=0.2, random_state=1)\n",
    "\n",
    "#instantiate regressor and fit\n",
    "model = LinearRegression(learning_rate=1e-4, max_iters=100)\n",
    "model.fit(X_train, y_train)\n",
    "\n",
    "#make prediction\n",
    "predictions = model.predict(X_test)\n",
    "print(f\"RMSE: {rmse(y_test, predictions)}\")"
   ]
  },
  {
   "cell_type": "code",
   "execution_count": 106,
   "id": "344019bc",
   "metadata": {},
   "outputs": [
    {
     "data": {
      "text/plain": [
       "array([0.999733])"
      ]
     },
     "execution_count": 106,
     "metadata": {},
     "output_type": "execute_result"
    }
   ],
   "source": [
    "model.weights"
   ]
  },
  {
   "cell_type": "code",
   "execution_count": 107,
   "id": "bcdfb0a7",
   "metadata": {},
   "outputs": [
    {
     "data": {
      "text/plain": [
       "0.016314714968817774"
      ]
     },
     "execution_count": 107,
     "metadata": {},
     "output_type": "execute_result"
    }
   ],
   "source": [
    "model.b"
   ]
  },
  {
   "cell_type": "code",
   "execution_count": 108,
   "id": "bc177cf5",
   "metadata": {},
   "outputs": [
    {
     "data": {
      "image/png": "[encoded data removed]",
      "text/plain": [
       "<Figure size 640x480 with 1 Axes>"
      ]
     },
     "metadata": {},
     "output_type": "display_data"
    }
   ],
   "source": [
    "plt.figure()\n",
    "\n",
    "#plot predictions\n",
    "plt.scatter(X_test, y_test, color = 'r')\n",
    "plt.plot(X_test, predictions, color = 'g')\n",
    "plt.show()"
   ]
  },
  {
   "cell_type": "code",
   "execution_count": null,
   "id": "7d4e36f3",
   "metadata": {},
   "outputs": [],
   "source": []
  }
 ],
 "metadata": {
  "kernelspec": {
   "display_name": "Python 3 (ipykernel)",
   "language": "python",
   "name": "python3"
  },
  "language_info": {
   "codemirror_mode": {
    "name": "ipython",
    "version": 3
   },
   "file_extension": ".py",
   "mimetype": "text/x-python",
   "name": "python",
   "nbconvert_exporter": "python",
   "pygments_lexer": "ipython3",
   "version": "3.9.13"
  }
 },
 "nbformat": 4,
 "nbformat_minor": 5
}
